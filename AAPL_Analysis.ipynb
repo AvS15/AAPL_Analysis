{
 "cells": [
  {
   "cell_type": "code",
   "execution_count": 1,
   "metadata": {},
   "outputs": [],
   "source": [
    "import pandas as pd\n",
    "import numpy as np"
   ]
  },
  {
   "cell_type": "code",
   "execution_count": 2,
   "metadata": {},
   "outputs": [],
   "source": [
    "data = pd.read_csv(r\"C:\\Users\\user\\GitHub\\AAPL\\AAPL.csv\")"
   ]
  },
  {
   "cell_type": "code",
   "execution_count": 3,
   "metadata": {},
   "outputs": [
    {
     "data": {
      "text/html": [
       "<div>\n",
       "<style scoped>\n",
       "    .dataframe tbody tr th:only-of-type {\n",
       "        vertical-align: middle;\n",
       "    }\n",
       "\n",
       "    .dataframe tbody tr th {\n",
       "        vertical-align: top;\n",
       "    }\n",
       "\n",
       "    .dataframe thead th {\n",
       "        text-align: right;\n",
       "    }\n",
       "</style>\n",
       "<table border=\"1\" class=\"dataframe\">\n",
       "  <thead>\n",
       "    <tr style=\"text-align: right;\">\n",
       "      <th></th>\n",
       "      <th>Date</th>\n",
       "      <th>Open</th>\n",
       "      <th>High</th>\n",
       "      <th>Low</th>\n",
       "      <th>Close</th>\n",
       "      <th>Adj Close</th>\n",
       "      <th>Volume</th>\n",
       "    </tr>\n",
       "  </thead>\n",
       "  <tbody>\n",
       "    <tr>\n",
       "      <td>0</td>\n",
       "      <td>2000-01-01</td>\n",
       "      <td>3.745536</td>\n",
       "      <td>4.017857</td>\n",
       "      <td>3.392857</td>\n",
       "      <td>3.553571</td>\n",
       "      <td>3.084645</td>\n",
       "      <td>763800800</td>\n",
       "    </tr>\n",
       "    <tr>\n",
       "      <td>1</td>\n",
       "      <td>2000-01-08</td>\n",
       "      <td>3.642857</td>\n",
       "      <td>3.651786</td>\n",
       "      <td>3.089286</td>\n",
       "      <td>3.587054</td>\n",
       "      <td>3.113708</td>\n",
       "      <td>836435600</td>\n",
       "    </tr>\n",
       "    <tr>\n",
       "      <td>2</td>\n",
       "      <td>2000-01-15</td>\n",
       "      <td>3.607143</td>\n",
       "      <td>4.339286</td>\n",
       "      <td>3.587054</td>\n",
       "      <td>3.975446</td>\n",
       "      <td>3.450849</td>\n",
       "      <td>845969600</td>\n",
       "    </tr>\n",
       "    <tr>\n",
       "      <td>3</td>\n",
       "      <td>2000-01-22</td>\n",
       "      <td>3.872768</td>\n",
       "      <td>4.078125</td>\n",
       "      <td>3.593750</td>\n",
       "      <td>3.629464</td>\n",
       "      <td>3.150523</td>\n",
       "      <td>517168400</td>\n",
       "    </tr>\n",
       "    <tr>\n",
       "      <td>4</td>\n",
       "      <td>2000-01-29</td>\n",
       "      <td>3.607143</td>\n",
       "      <td>3.928571</td>\n",
       "      <td>3.375000</td>\n",
       "      <td>3.857143</td>\n",
       "      <td>3.348157</td>\n",
       "      <td>596106000</td>\n",
       "    </tr>\n",
       "  </tbody>\n",
       "</table>\n",
       "</div>"
      ],
      "text/plain": [
       "         Date      Open      High       Low     Close  Adj Close     Volume\n",
       "0  2000-01-01  3.745536  4.017857  3.392857  3.553571   3.084645  763800800\n",
       "1  2000-01-08  3.642857  3.651786  3.089286  3.587054   3.113708  836435600\n",
       "2  2000-01-15  3.607143  4.339286  3.587054  3.975446   3.450849  845969600\n",
       "3  2000-01-22  3.872768  4.078125  3.593750  3.629464   3.150523  517168400\n",
       "4  2000-01-29  3.607143  3.928571  3.375000  3.857143   3.348157  596106000"
      ]
     },
     "execution_count": 3,
     "metadata": {},
     "output_type": "execute_result"
    }
   ],
   "source": [
    "data.head()"
   ]
  },
  {
   "cell_type": "code",
   "execution_count": 4,
   "metadata": {},
   "outputs": [
    {
     "name": "stdout",
     "output_type": "stream",
     "text": [
      "Initial column identifiers: \n"
     ]
    },
    {
     "data": {
      "text/plain": [
       "Index(['Date', 'Open', 'High', 'Low', 'Close', 'Adj Close', 'Volume'], dtype='object')"
      ]
     },
     "execution_count": 4,
     "metadata": {},
     "output_type": "execute_result"
    }
   ],
   "source": [
    "print(\"Initial column identifiers: \")\n",
    "data.columns"
   ]
  },
  {
   "cell_type": "code",
   "execution_count": 5,
   "metadata": {},
   "outputs": [
    {
     "data": {
      "text/html": [
       "<div>\n",
       "<style scoped>\n",
       "    .dataframe tbody tr th:only-of-type {\n",
       "        vertical-align: middle;\n",
       "    }\n",
       "\n",
       "    .dataframe tbody tr th {\n",
       "        vertical-align: top;\n",
       "    }\n",
       "\n",
       "    .dataframe thead th {\n",
       "        text-align: right;\n",
       "    }\n",
       "</style>\n",
       "<table border=\"1\" class=\"dataframe\">\n",
       "  <thead>\n",
       "    <tr style=\"text-align: right;\">\n",
       "      <th></th>\n",
       "      <th>Date</th>\n",
       "      <th>Open</th>\n",
       "      <th>Close</th>\n",
       "      <th>Adj_Close</th>\n",
       "    </tr>\n",
       "  </thead>\n",
       "  <tbody>\n",
       "    <tr>\n",
       "      <td>0</td>\n",
       "      <td>2000-01-01</td>\n",
       "      <td>3.745536</td>\n",
       "      <td>3.553571</td>\n",
       "      <td>3.084645</td>\n",
       "    </tr>\n",
       "    <tr>\n",
       "      <td>1</td>\n",
       "      <td>2000-01-08</td>\n",
       "      <td>3.642857</td>\n",
       "      <td>3.587054</td>\n",
       "      <td>3.113708</td>\n",
       "    </tr>\n",
       "    <tr>\n",
       "      <td>2</td>\n",
       "      <td>2000-01-15</td>\n",
       "      <td>3.607143</td>\n",
       "      <td>3.975446</td>\n",
       "      <td>3.450849</td>\n",
       "    </tr>\n",
       "  </tbody>\n",
       "</table>\n",
       "</div>"
      ],
      "text/plain": [
       "         Date      Open     Close  Adj_Close\n",
       "0  2000-01-01  3.745536  3.553571   3.084645\n",
       "1  2000-01-08  3.642857  3.587054   3.113708\n",
       "2  2000-01-15  3.607143  3.975446   3.450849"
      ]
     },
     "execution_count": 5,
     "metadata": {},
     "output_type": "execute_result"
    }
   ],
   "source": [
    "#Create pandas-DataFrame\n",
    "df = pd.DataFrame(data, columns=[\"Date\", \"Open\", \"Close\", \"Adj Close\"])\n",
    "\n",
    "df.rename(columns={\"Adj Close\":\"Adj_Close\"}, inplace=True)\n",
    "df.head(n=3)"
   ]
  },
  {
   "cell_type": "code",
   "execution_count": 6,
   "metadata": {},
   "outputs": [
    {
     "data": {
      "text/html": [
       "<div>\n",
       "<style scoped>\n",
       "    .dataframe tbody tr th:only-of-type {\n",
       "        vertical-align: middle;\n",
       "    }\n",
       "\n",
       "    .dataframe tbody tr th {\n",
       "        vertical-align: top;\n",
       "    }\n",
       "\n",
       "    .dataframe thead th {\n",
       "        text-align: right;\n",
       "    }\n",
       "</style>\n",
       "<table border=\"1\" class=\"dataframe\">\n",
       "  <thead>\n",
       "    <tr style=\"text-align: right;\">\n",
       "      <th></th>\n",
       "      <th>Date</th>\n",
       "      <th>Open</th>\n",
       "      <th>Close</th>\n",
       "      <th>Adj_Close</th>\n",
       "    </tr>\n",
       "  </thead>\n",
       "  <tbody>\n",
       "    <tr>\n",
       "      <td>1051</td>\n",
       "      <td>2020-02-22</td>\n",
       "      <td>297.260010</td>\n",
       "      <td>273.359985</td>\n",
       "      <td>273.359985</td>\n",
       "    </tr>\n",
       "    <tr>\n",
       "      <td>1052</td>\n",
       "      <td>2020-02-29</td>\n",
       "      <td>282.279999</td>\n",
       "      <td>289.029999</td>\n",
       "      <td>289.029999</td>\n",
       "    </tr>\n",
       "    <tr>\n",
       "      <td>1053</td>\n",
       "      <td>2020-03-07</td>\n",
       "      <td>263.750000</td>\n",
       "      <td>266.170013</td>\n",
       "      <td>266.170013</td>\n",
       "    </tr>\n",
       "  </tbody>\n",
       "</table>\n",
       "</div>"
      ],
      "text/plain": [
       "            Date        Open       Close   Adj_Close\n",
       "1051  2020-02-22  297.260010  273.359985  273.359985\n",
       "1052  2020-02-29  282.279999  289.029999  289.029999\n",
       "1053  2020-03-07  263.750000  266.170013  266.170013"
      ]
     },
     "execution_count": 6,
     "metadata": {},
     "output_type": "execute_result"
    }
   ],
   "source": [
    "df.tail(n=3)"
   ]
  },
  {
   "cell_type": "code",
   "execution_count": 7,
   "metadata": {},
   "outputs": [
    {
     "name": "stdout",
     "output_type": "stream",
     "text": [
      "Entrance time: 2000-01-01\n"
     ]
    }
   ],
   "source": [
    "print(\"Entrance time: \" + df[\"Date\"].min())"
   ]
  },
  {
   "cell_type": "code",
   "execution_count": 8,
   "metadata": {},
   "outputs": [
    {
     "name": "stdout",
     "output_type": "stream",
     "text": [
      "Last date: 2020-03-07\n"
     ]
    }
   ],
   "source": [
    "print(\"Last date: \" + df.Date.max())"
   ]
  },
  {
   "cell_type": "code",
   "execution_count": 9,
   "metadata": {},
   "outputs": [
    {
     "name": "stdout",
     "output_type": "stream",
     "text": [
      "Highest value in Adj_Close: 324.95\n",
      "Lowest value in Adj_Close: 0.81\n"
     ]
    }
   ],
   "source": [
    "h = round(df[\"Adj_Close\"].max(), 2)\n",
    "print(\"Highest value in Adj_Close: \" + str(h))\n",
    "\n",
    "l = round(df.Adj_Close.min(), 2)\n",
    "print(\"Lowest value in Adj_Close: \" + str(l))"
   ]
  },
  {
   "cell_type": "code",
   "execution_count": 10,
   "metadata": {},
   "outputs": [
    {
     "name": "stdout",
     "output_type": "stream",
     "text": [
      "At following dates the Adj_Close is greater than 300:\n"
     ]
    },
    {
     "data": {
      "text/html": [
       "<div>\n",
       "<style scoped>\n",
       "    .dataframe tbody tr th:only-of-type {\n",
       "        vertical-align: middle;\n",
       "    }\n",
       "\n",
       "    .dataframe tbody tr th {\n",
       "        vertical-align: top;\n",
       "    }\n",
       "\n",
       "    .dataframe thead th {\n",
       "        text-align: right;\n",
       "    }\n",
       "</style>\n",
       "<table border=\"1\" class=\"dataframe\">\n",
       "  <thead>\n",
       "    <tr style=\"text-align: right;\">\n",
       "      <th></th>\n",
       "      <th>Date</th>\n",
       "    </tr>\n",
       "  </thead>\n",
       "  <tbody>\n",
       "    <tr>\n",
       "      <td>1044</td>\n",
       "      <td>2020-01-04</td>\n",
       "    </tr>\n",
       "    <tr>\n",
       "      <td>1045</td>\n",
       "      <td>2020-01-11</td>\n",
       "    </tr>\n",
       "    <tr>\n",
       "      <td>1046</td>\n",
       "      <td>2020-01-18</td>\n",
       "    </tr>\n",
       "    <tr>\n",
       "      <td>1047</td>\n",
       "      <td>2020-01-25</td>\n",
       "    </tr>\n",
       "    <tr>\n",
       "      <td>1048</td>\n",
       "      <td>2020-02-01</td>\n",
       "    </tr>\n",
       "    <tr>\n",
       "      <td>1049</td>\n",
       "      <td>2020-02-08</td>\n",
       "    </tr>\n",
       "    <tr>\n",
       "      <td>1050</td>\n",
       "      <td>2020-02-15</td>\n",
       "    </tr>\n",
       "  </tbody>\n",
       "</table>\n",
       "</div>"
      ],
      "text/plain": [
       "            Date\n",
       "1044  2020-01-04\n",
       "1045  2020-01-11\n",
       "1046  2020-01-18\n",
       "1047  2020-01-25\n",
       "1048  2020-02-01\n",
       "1049  2020-02-08\n",
       "1050  2020-02-15"
      ]
     },
     "execution_count": 10,
     "metadata": {},
     "output_type": "execute_result"
    }
   ],
   "source": [
    "print(\"At following dates the Adj_Close is greater than 300:\")\n",
    "df.loc[df['Adj_Close'] > 300, ['Date']]"
   ]
  },
  {
   "cell_type": "code",
   "execution_count": 11,
   "metadata": {},
   "outputs": [
    {
     "name": "stdout",
     "output_type": "stream",
     "text": [
      "Date the Adj_Close reaches the peak:\n"
     ]
    },
    {
     "data": {
      "text/html": [
       "<div>\n",
       "<style scoped>\n",
       "    .dataframe tbody tr th:only-of-type {\n",
       "        vertical-align: middle;\n",
       "    }\n",
       "\n",
       "    .dataframe tbody tr th {\n",
       "        vertical-align: top;\n",
       "    }\n",
       "\n",
       "    .dataframe thead th {\n",
       "        text-align: right;\n",
       "    }\n",
       "</style>\n",
       "<table border=\"1\" class=\"dataframe\">\n",
       "  <thead>\n",
       "    <tr style=\"text-align: right;\">\n",
       "      <th></th>\n",
       "      <th>Date</th>\n",
       "      <th>Adj_Close</th>\n",
       "    </tr>\n",
       "  </thead>\n",
       "  <tbody>\n",
       "    <tr>\n",
       "      <td>1049</td>\n",
       "      <td>2020-02-08</td>\n",
       "      <td>324.950012</td>\n",
       "    </tr>\n",
       "  </tbody>\n",
       "</table>\n",
       "</div>"
      ],
      "text/plain": [
       "            Date   Adj_Close\n",
       "1049  2020-02-08  324.950012"
      ]
     },
     "execution_count": 11,
     "metadata": {},
     "output_type": "execute_result"
    }
   ],
   "source": [
    "print(\"Date the Adj_Close reaches the peak:\")\n",
    "df.loc[df['Adj_Close'] == np.max(df['Adj_Close']), ['Date', 'Adj_Close']]\n",
    "# df.loc[df['Adj_Close'] == df[\"Adj_Close\"].max(), ['Date']]\n"
   ]
  },
  {
   "cell_type": "code",
   "execution_count": 12,
   "metadata": {},
   "outputs": [
    {
     "name": "stdout",
     "output_type": "stream",
     "text": [
      "Mean in Open: 61.66\n",
      "Mean in Close: 61.93\n",
      "Mean in Adj_Close: 58.13\n"
     ]
    }
   ],
   "source": [
    "# Using different notation (numpy, pandas)\n",
    "\n",
    "print(\"Mean in Open: \" + str(round(df.Open.mean(), 2)))\n",
    "print(\"Mean in Close: \" + str(round(np.mean(df.Close), 2)))\n",
    "print(\"Mean in Adj_Close: \" + str(round(df[\"Adj_Close\"].mean(), 2)))\n"
   ]
  },
  {
   "cell_type": "code",
   "execution_count": 13,
   "metadata": {},
   "outputs": [
    {
     "data": {
      "text/html": [
       "<div>\n",
       "<style scoped>\n",
       "    .dataframe tbody tr th:only-of-type {\n",
       "        vertical-align: middle;\n",
       "    }\n",
       "\n",
       "    .dataframe tbody tr th {\n",
       "        vertical-align: top;\n",
       "    }\n",
       "\n",
       "    .dataframe thead th {\n",
       "        text-align: right;\n",
       "    }\n",
       "</style>\n",
       "<table border=\"1\" class=\"dataframe\">\n",
       "  <thead>\n",
       "    <tr style=\"text-align: right;\">\n",
       "      <th></th>\n",
       "      <th>Open</th>\n",
       "      <th>Close</th>\n",
       "      <th>Adj_Close</th>\n",
       "    </tr>\n",
       "  </thead>\n",
       "  <tbody>\n",
       "    <tr>\n",
       "      <td>count</td>\n",
       "      <td>1054.000000</td>\n",
       "      <td>1054.000000</td>\n",
       "      <td>1054.000000</td>\n",
       "    </tr>\n",
       "    <tr>\n",
       "      <td>mean</td>\n",
       "      <td>61.660075</td>\n",
       "      <td>61.928145</td>\n",
       "      <td>58.125334</td>\n",
       "    </tr>\n",
       "    <tr>\n",
       "      <td>std</td>\n",
       "      <td>68.560452</td>\n",
       "      <td>69.047556</td>\n",
       "      <td>67.711066</td>\n",
       "    </tr>\n",
       "    <tr>\n",
       "      <td>min</td>\n",
       "      <td>0.937857</td>\n",
       "      <td>0.937143</td>\n",
       "      <td>0.813478</td>\n",
       "    </tr>\n",
       "    <tr>\n",
       "      <td>25%</td>\n",
       "      <td>4.988214</td>\n",
       "      <td>5.019464</td>\n",
       "      <td>4.357100</td>\n",
       "    </tr>\n",
       "    <tr>\n",
       "      <td>50%</td>\n",
       "      <td>29.577143</td>\n",
       "      <td>29.640715</td>\n",
       "      <td>25.729351</td>\n",
       "    </tr>\n",
       "    <tr>\n",
       "      <td>75%</td>\n",
       "      <td>101.472498</td>\n",
       "      <td>101.394998</td>\n",
       "      <td>93.462414</td>\n",
       "    </tr>\n",
       "    <tr>\n",
       "      <td>max</td>\n",
       "      <td>317.190002</td>\n",
       "      <td>324.950012</td>\n",
       "      <td>324.950012</td>\n",
       "    </tr>\n",
       "  </tbody>\n",
       "</table>\n",
       "</div>"
      ],
      "text/plain": [
       "              Open        Close    Adj_Close\n",
       "count  1054.000000  1054.000000  1054.000000\n",
       "mean     61.660075    61.928145    58.125334\n",
       "std      68.560452    69.047556    67.711066\n",
       "min       0.937857     0.937143     0.813478\n",
       "25%       4.988214     5.019464     4.357100\n",
       "50%      29.577143    29.640715    25.729351\n",
       "75%     101.472498   101.394998    93.462414\n",
       "max     317.190002   324.950012   324.950012"
      ]
     },
     "execution_count": 13,
     "metadata": {},
     "output_type": "execute_result"
    }
   ],
   "source": [
    "# statistical summary\n",
    "\n",
    "df.describe()"
   ]
  },
  {
   "cell_type": "code",
   "execution_count": 14,
   "metadata": {},
   "outputs": [],
   "source": [
    "X = df.loc[:, [\"Open\", \"Close\"]]\n",
    "y = df.loc[:, \"Adj_Close\"]"
   ]
  },
  {
   "cell_type": "code",
   "execution_count": 15,
   "metadata": {},
   "outputs": [
    {
     "name": "stdout",
     "output_type": "stream",
     "text": [
      "Prediction: [268.04439046]\n",
      "As integer: [268]\n"
     ]
    }
   ],
   "source": [
    "# Using linear regression (without cross-validation)\n",
    "\n",
    "from sklearn.linear_model import LinearRegression\n",
    "\n",
    "lr = LinearRegression()\n",
    "\n",
    "model = lr.fit(X, y)\n",
    "pred = model.predict([[273.75, 276.17]])\n",
    "\n",
    "print(\"Prediction: \" + str(pred))\n",
    "print(\"As integer: \" + str(pred.astype(np.int32)))"
   ]
  },
  {
   "cell_type": "code",
   "execution_count": 16,
   "metadata": {},
   "outputs": [
    {
     "name": "stdout",
     "output_type": "stream",
     "text": [
      "X_train shape: (948, 2)\n",
      "y_train shape: (948,)\n",
      "X_test shape: (106, 2)\n",
      "y_test shape: (106,)\n",
      "\n",
      "R² of prediction: 0.9984737906376883\n"
     ]
    }
   ],
   "source": [
    "# Linear regression with cross-validation\n",
    "\n",
    "from sklearn.model_selection import train_test_split\n",
    "\n",
    "X_train, X_test, y_train, y_test = train_test_split(X, y, test_size=0.1)\n",
    "\n",
    "print(\"X_train shape: \" + str(X_train.shape))\n",
    "print(\"y_train shape: \" + str(y_train.shape))\n",
    "print(\"X_test shape: \" + str(X_test.shape))\n",
    "print(\"y_test shape: \" + str(y_test.shape))\n",
    "print()\n",
    "\n",
    "\n",
    "from sklearn.linear_model import LinearRegression\n",
    "\n",
    "lr1 = LinearRegression()\n",
    "model1 = lr1.fit(X_train, y_train)\n",
    "y_pred = model1.predict(X_test)\n",
    "\n",
    "\n",
    "from sklearn.metrics import r2_score\n",
    "\n",
    "r2 = r2_score(y_test, y_pred)\n",
    "print(\"R² of prediction: \" + str(r2))\n"
   ]
  },
  {
   "cell_type": "code",
   "execution_count": 17,
   "metadata": {},
   "outputs": [
    {
     "name": "stdout",
     "output_type": "stream",
     "text": [
      "AdaBoost-prediction: [272.94539271]\n",
      "AdaBoost as integer: [272]\n",
      "BaggingRegressor-prediction: [275.2406492]\n",
      "BaggingRegressor as integer: [275]\n",
      "GradientBoostingRegressor-prediction: [273.7356364]\n",
      "GradientBoostingRegressor as integer: [273]\n",
      "ExtraTreesRegressor-prediction: [276.524603]\n",
      "ExtraTreesRegressor as integer: [276]\n"
     ]
    },
    {
     "name": "stderr",
     "output_type": "stream",
     "text": [
      "C:\\Users\\user\\Anaconda3\\lib\\site-packages\\sklearn\\ensemble\\forest.py:245: FutureWarning: The default value of n_estimators will change from 10 in version 0.20 to 100 in 0.22.\n",
      "  \"10 in version 0.20 to 100 in 0.22.\", FutureWarning)\n"
     ]
    }
   ],
   "source": [
    "# Using different ensemble classes for regression problems (without cross-validation)\n",
    "\n",
    "\n",
    "# a) AdaBoostRegressor \n",
    "\n",
    "from sklearn.ensemble import AdaBoostRegressor\n",
    "\n",
    "ada = AdaBoostRegressor()\n",
    "\n",
    "model_ada = ada.fit(X, y)\n",
    "pred_ada = model_ada.predict([[273.75, 276.17]])\n",
    "\n",
    "print(\"AdaBoost-prediction: \" + str(pred_ada))\n",
    "print(\"AdaBoost as integer: \" + str(pred_ada.astype(np.int32)))\n",
    "\n",
    "\n",
    "\n",
    "\n",
    "# b) BagginRegressor, an ensemble method\n",
    "\n",
    "from sklearn.ensemble import BaggingRegressor\n",
    "\n",
    "br = BaggingRegressor()\n",
    "\n",
    "model_br = br.fit(X, y)\n",
    "pred_br = model_br.predict([[273.75, 276.17]])\n",
    "\n",
    "print(\"BaggingRegressor-prediction: \" + str(pred_br))\n",
    "print(\"BaggingRegressor as integer: \" + str(pred_br.astype(np.int32)))\n",
    "\n",
    "\n",
    "\n",
    "\n",
    "\n",
    "# c) GradientBoostingRegressor\n",
    "\n",
    "from sklearn.ensemble import GradientBoostingRegressor\n",
    "\n",
    "gbr = GradientBoostingRegressor()\n",
    "\n",
    "model_gbr = gbr.fit(X, y)\n",
    "pred_gbr = model_gbr.predict([[273.75, 276.17]])\n",
    "\n",
    "print(\"GradientBoostingRegressor-prediction: \" + str(pred_gbr))\n",
    "print(\"GradientBoostingRegressor as integer: \" + str(pred_gbr.astype(np.int32)))\n",
    "\n",
    "\n",
    "\n",
    "\n",
    "\n",
    "# d) ExtraTreesRegressor, an ensemble method\n",
    "\n",
    "from sklearn.ensemble import ExtraTreesRegressor\n",
    "\n",
    "etr = ExtraTreesRegressor()\n",
    "\n",
    "model_etr = etr.fit(X, y)\n",
    "pred_etr = model_etr.predict([[273.75, 276.17]])\n",
    "\n",
    "print(\"ExtraTreesRegressor-prediction: \" + str(pred_etr))\n",
    "print(\"ExtraTreesRegressor as integer: \" + str(pred_etr.astype(np.int32)))\n",
    "\n"
   ]
  },
  {
   "cell_type": "code",
   "execution_count": 18,
   "metadata": {},
   "outputs": [
    {
     "name": "stdout",
     "output_type": "stream",
     "text": [
      "ExtraTreeRegressor-prediction: [278.778381]\n",
      "ExtraTreeRegressor as integer: [278]\n",
      "DecisionTreeRegressor-prediction: [274.498535]\n",
      "DecisionTreeRegressor as integer: [274]\n"
     ]
    }
   ],
   "source": [
    "# Using decision tree classes\n",
    "\n",
    "\n",
    "# a) ExtraTreeRegressor\n",
    "\n",
    "from sklearn.tree import ExtraTreeRegressor\n",
    "\n",
    "etrr = ExtraTreeRegressor()\n",
    "\n",
    "model_etrr = etrr.fit(X, y)\n",
    "pred_etrr = model_etrr.predict([[273.75, 276.17]])\n",
    "\n",
    "print(\"ExtraTreeRegressor-prediction: \" + str(pred_etrr))\n",
    "print(\"ExtraTreeRegressor as integer: \" + str(pred_etrr.astype(np.int32)))\n",
    "\n",
    "\n",
    "\n",
    "\n",
    "# b) DecisionTreeRegressor\n",
    "\n",
    "from sklearn.tree import DecisionTreeRegressor\n",
    "\n",
    "dtr = DecisionTreeRegressor()\n",
    "\n",
    "model_dtr = dtr.fit(X, y)\n",
    "pred_dtr = model_dtr.predict([[273.75, 276.17]])\n",
    "\n",
    "print(\"DecisionTreeRegressor-prediction: \" + str(pred_dtr))\n",
    "print(\"DecisionTreeRegressor as integer: \" + str(pred_dtr.astype(np.int32)))"
   ]
  },
  {
   "cell_type": "code",
   "execution_count": 19,
   "metadata": {},
   "outputs": [
    {
     "data": {
      "text/html": [
       "<div>\n",
       "<style scoped>\n",
       "    .dataframe tbody tr th:only-of-type {\n",
       "        vertical-align: middle;\n",
       "    }\n",
       "\n",
       "    .dataframe tbody tr th {\n",
       "        vertical-align: top;\n",
       "    }\n",
       "\n",
       "    .dataframe thead th {\n",
       "        text-align: right;\n",
       "    }\n",
       "</style>\n",
       "<table border=\"1\" class=\"dataframe\">\n",
       "  <thead>\n",
       "    <tr style=\"text-align: right;\">\n",
       "      <th></th>\n",
       "      <th>Date</th>\n",
       "      <th>Open</th>\n",
       "      <th>Close</th>\n",
       "      <th>Adj_Close</th>\n",
       "      <th>Return</th>\n",
       "    </tr>\n",
       "  </thead>\n",
       "  <tbody>\n",
       "    <tr>\n",
       "      <td>0</td>\n",
       "      <td>2000-01-01</td>\n",
       "      <td>3.745536</td>\n",
       "      <td>3.553571</td>\n",
       "      <td>3.084645</td>\n",
       "      <td>NaN</td>\n",
       "    </tr>\n",
       "    <tr>\n",
       "      <td>1</td>\n",
       "      <td>2000-01-08</td>\n",
       "      <td>3.642857</td>\n",
       "      <td>3.587054</td>\n",
       "      <td>3.113708</td>\n",
       "      <td>0.009422</td>\n",
       "    </tr>\n",
       "    <tr>\n",
       "      <td>2</td>\n",
       "      <td>2000-01-15</td>\n",
       "      <td>3.607143</td>\n",
       "      <td>3.975446</td>\n",
       "      <td>3.450849</td>\n",
       "      <td>0.108276</td>\n",
       "    </tr>\n",
       "    <tr>\n",
       "      <td>3</td>\n",
       "      <td>2000-01-22</td>\n",
       "      <td>3.872768</td>\n",
       "      <td>3.629464</td>\n",
       "      <td>3.150523</td>\n",
       "      <td>-0.087030</td>\n",
       "    </tr>\n",
       "    <tr>\n",
       "      <td>4</td>\n",
       "      <td>2000-01-29</td>\n",
       "      <td>3.607143</td>\n",
       "      <td>3.857143</td>\n",
       "      <td>3.348157</td>\n",
       "      <td>0.062731</td>\n",
       "    </tr>\n",
       "    <tr>\n",
       "      <td>...</td>\n",
       "      <td>...</td>\n",
       "      <td>...</td>\n",
       "      <td>...</td>\n",
       "      <td>...</td>\n",
       "      <td>...</td>\n",
       "    </tr>\n",
       "    <tr>\n",
       "      <td>1049</td>\n",
       "      <td>2020-02-08</td>\n",
       "      <td>314.179993</td>\n",
       "      <td>324.950012</td>\n",
       "      <td>324.950012</td>\n",
       "      <td>0.017783</td>\n",
       "    </tr>\n",
       "    <tr>\n",
       "      <td>1050</td>\n",
       "      <td>2020-02-15</td>\n",
       "      <td>315.359985</td>\n",
       "      <td>313.049988</td>\n",
       "      <td>313.049988</td>\n",
       "      <td>-0.036621</td>\n",
       "    </tr>\n",
       "    <tr>\n",
       "      <td>1051</td>\n",
       "      <td>2020-02-22</td>\n",
       "      <td>297.260010</td>\n",
       "      <td>273.359985</td>\n",
       "      <td>273.359985</td>\n",
       "      <td>-0.126785</td>\n",
       "    </tr>\n",
       "    <tr>\n",
       "      <td>1052</td>\n",
       "      <td>2020-02-29</td>\n",
       "      <td>282.279999</td>\n",
       "      <td>289.029999</td>\n",
       "      <td>289.029999</td>\n",
       "      <td>0.057324</td>\n",
       "    </tr>\n",
       "    <tr>\n",
       "      <td>1053</td>\n",
       "      <td>2020-03-07</td>\n",
       "      <td>263.750000</td>\n",
       "      <td>266.170013</td>\n",
       "      <td>266.170013</td>\n",
       "      <td>-0.079092</td>\n",
       "    </tr>\n",
       "  </tbody>\n",
       "</table>\n",
       "<p>1054 rows × 5 columns</p>\n",
       "</div>"
      ],
      "text/plain": [
       "            Date        Open       Close   Adj_Close    Return\n",
       "0     2000-01-01    3.745536    3.553571    3.084645       NaN\n",
       "1     2000-01-08    3.642857    3.587054    3.113708  0.009422\n",
       "2     2000-01-15    3.607143    3.975446    3.450849  0.108276\n",
       "3     2000-01-22    3.872768    3.629464    3.150523 -0.087030\n",
       "4     2000-01-29    3.607143    3.857143    3.348157  0.062731\n",
       "...          ...         ...         ...         ...       ...\n",
       "1049  2020-02-08  314.179993  324.950012  324.950012  0.017783\n",
       "1050  2020-02-15  315.359985  313.049988  313.049988 -0.036621\n",
       "1051  2020-02-22  297.260010  273.359985  273.359985 -0.126785\n",
       "1052  2020-02-29  282.279999  289.029999  289.029999  0.057324\n",
       "1053  2020-03-07  263.750000  266.170013  266.170013 -0.079092\n",
       "\n",
       "[1054 rows x 5 columns]"
      ]
     },
     "execution_count": 19,
     "metadata": {},
     "output_type": "execute_result"
    }
   ],
   "source": [
    "# Computing the return \n",
    "\n",
    "df1 = pd.DataFrame(df, columns=[\"Date\",\"Open\",\"Close\",\"Adj_Close\",\"Return\"])\n",
    "df1[\"Return\"] = df1[\"Adj_Close\"].pct_change()\n",
    "\n",
    "df1"
   ]
  },
  {
   "cell_type": "code",
   "execution_count": 20,
   "metadata": {},
   "outputs": [
    {
     "name": "stdout",
     "output_type": "stream",
     "text": [
      "Ridge-Regression:  [0.03893203]\n",
      "RidgeCV:           [0.03890224]\n",
      "SGDRegressor:      [5.16296078e+13]\n",
      "LinearRegression:  [0.03893534]\n",
      "AdaBoostRegressor: [0.00272825]\n",
      "BaggingRegressor:  [0.00122982]\n"
     ]
    }
   ],
   "source": [
    "# Using different regression classes for predicting the return based on Open and Adj_Close\n",
    "\n",
    "\n",
    "X_new = df1.loc[1:, [\"Open\",\"Adj_Close\"]]\n",
    "y_new = df1.loc[1:, \"Return\"]                        # without first row because of NaN value\n",
    "\n",
    "\n",
    "from sklearn.linear_model import Ridge\n",
    "from sklearn.linear_model import RidgeCV\n",
    "from sklearn.linear_model import SGDRegressor\n",
    "from sklearn.linear_model import LinearRegression\n",
    "from sklearn.ensemble import AdaBoostRegressor\n",
    "from sklearn.ensemble import BaggingRegressor\n",
    "\n",
    "\n",
    "\n",
    "ridge = Ridge()\n",
    "ridgeCV = RidgeCV()                            # CV: cross-validation\n",
    "sgd = SGDRegressor()\n",
    "linR = LinearRegression()\n",
    "adaR = AdaBoostRegressor()\n",
    "bagR = BaggingRegressor()\n",
    "\n",
    "\n",
    "\n",
    "for reg in [ridge, ridgeCV, sgd, linR, adaR, bagR]:\n",
    "    \n",
    "    model = reg.fit(X_new, y_new)\n",
    "    pred = model.predict([[273.75, 276.17]])\n",
    "    \n",
    "    if reg == ridge:\n",
    "        print(\"Ridge-Regression:  \" +  str(pred))\n",
    "    elif reg == ridgeCV:\n",
    "        print(\"RidgeCV:           \" +  str(pred))\n",
    "    elif reg == sgd:\n",
    "        print(\"SGDRegressor:      \" +  str(pred))\n",
    "    elif reg == linR:\n",
    "        print(\"LinearRegression:  \" +  str(pred))\n",
    "    elif reg == adaR:\n",
    "        print(\"AdaBoostRegressor: \" +  str(pred))\n",
    "    elif reg == bagR:\n",
    "        print(\"BaggingRegressor:  \" +  str(pred))\n",
    "    else:\n",
    "        print(\"not found\")\n",
    "\n",
    "\n"
   ]
  },
  {
   "cell_type": "code",
   "execution_count": 21,
   "metadata": {},
   "outputs": [],
   "source": [
    "# Save df1 as a new csv file under the following path/directory\n",
    "\n",
    "df1.to_csv(r\"C:\\Users\\user\\GitHub\\AAPL\\AAPL_new.csv\")"
   ]
  },
  {
   "cell_type": "code",
   "execution_count": 22,
   "metadata": {},
   "outputs": [
    {
     "name": "stdout",
     "output_type": "stream",
     "text": [
      "Maximum of Adj_Close:\n",
      "Date         2020-03-07\n",
      "Open             317.19\n",
      "Close            324.95\n",
      "Adj_Close        324.95\n",
      "Return         0.266436\n",
      "dtype: object\n",
      "\n",
      "\n",
      "Predicted 'Return':\n",
      "[0.00599749]\n",
      "[0.00600267]\n",
      "[0.00600784]\n",
      "[0.00601302]\n",
      "[0.00601819]\n",
      "[0.00602337]\n",
      "[0.00602855]\n",
      "[0.00603372]\n",
      "[0.0060389]\n",
      "[0.00604407]\n",
      "[0.00604925]\n",
      "\n",
      "\n"
     ]
    },
    {
     "data": {
      "image/png": "[encoded data removed]",
      "text/plain": [
       "<Figure size 1080x1080 with 1 Axes>"
      ]
     },
     "metadata": {
      "needs_background": "light"
     },
     "output_type": "display_data"
    }
   ],
   "source": [
    "# some plotting\n",
    "\n",
    "import matplotlib.pyplot as plt\n",
    "from sklearn.linear_model import LinearRegression\n",
    "%matplotlib inline \n",
    "\n",
    "print(\"Maximum of Adj_Close:\")\n",
    "print(df1.max())\n",
    "print()\n",
    "print()\n",
    "\n",
    "\n",
    "x = df1.loc[1:, [\"Adj_Close\"]]\n",
    "y = df1.loc[1:, \"Return\"]     \n",
    "\n",
    "lr = LinearRegression()\n",
    "\n",
    "model = lr.fit(x, y)\n",
    "\n",
    "\n",
    "x_old = x\n",
    "y_old = model.predict(x_old)\n",
    "\n",
    "\n",
    "x_new = [[325], [330], [335], [340], [345], [350], [355], [360], [365], [370], [375]]\n",
    "y_new = model.predict(x_new)\n",
    "\n",
    "print(\"Predicted 'Return':\") \n",
    "for p in x_new:\n",
    "    pred = model.predict([p])\n",
    "    print(pred)\n",
    "\n",
    "    \n",
    "print()\n",
    "print()\n",
    "\n",
    "\n",
    "plt.figure(figsize=(15,15))\n",
    "plt.scatter(x, y, color=\"blue\", label=\"Return\")\n",
    "plt.plot(x_old, y_old, color=\"green\")\n",
    "plt.plot(x_new, y_new, color=\"red\", label=\"Linear prediction\")\n",
    "plt.xticks([0,25,50,75,100,125,150,175,200,225,250,275,300,325,350,375])  \n",
    "plt.yticks([-0.5,-0.4,-0.3,-0.2,-0.15,-0.1,-0.05,0,0.05,0.1,0.15,0.2,0.25,0.3])\n",
    "plt.xlabel(\"Adjusted Close\")\n",
    "plt.ylabel(\"Return [%]\")\n",
    "plt.title(\"Relationship Adj_Close to Return\")\n",
    "plt.legend(loc='lower right')\n",
    "plt.show()"
   ]
  },
  {
   "cell_type": "code",
   "execution_count": 23,
   "metadata": {},
   "outputs": [
    {
     "data": {
      "text/html": [
       "<div>\n",
       "<style scoped>\n",
       "    .dataframe tbody tr th:only-of-type {\n",
       "        vertical-align: middle;\n",
       "    }\n",
       "\n",
       "    .dataframe tbody tr th {\n",
       "        vertical-align: top;\n",
       "    }\n",
       "\n",
       "    .dataframe thead th {\n",
       "        text-align: right;\n",
       "    }\n",
       "</style>\n",
       "<table border=\"1\" class=\"dataframe\">\n",
       "  <thead>\n",
       "    <tr style=\"text-align: right;\">\n",
       "      <th></th>\n",
       "      <th>index</th>\n",
       "      <th>Date</th>\n",
       "      <th>Open</th>\n",
       "      <th>Close</th>\n",
       "      <th>Adj_Close</th>\n",
       "      <th>Return</th>\n",
       "    </tr>\n",
       "  </thead>\n",
       "  <tbody>\n",
       "    <tr>\n",
       "      <td>0</td>\n",
       "      <td>1</td>\n",
       "      <td>2000-01-08</td>\n",
       "      <td>3.642857</td>\n",
       "      <td>3.587054</td>\n",
       "      <td>3.113708</td>\n",
       "      <td>0.009422</td>\n",
       "    </tr>\n",
       "    <tr>\n",
       "      <td>1</td>\n",
       "      <td>2</td>\n",
       "      <td>2000-01-15</td>\n",
       "      <td>3.607143</td>\n",
       "      <td>3.975446</td>\n",
       "      <td>3.450849</td>\n",
       "      <td>0.108276</td>\n",
       "    </tr>\n",
       "    <tr>\n",
       "      <td>2</td>\n",
       "      <td>3</td>\n",
       "      <td>2000-01-22</td>\n",
       "      <td>3.872768</td>\n",
       "      <td>3.629464</td>\n",
       "      <td>3.150523</td>\n",
       "      <td>-0.087030</td>\n",
       "    </tr>\n",
       "    <tr>\n",
       "      <td>3</td>\n",
       "      <td>4</td>\n",
       "      <td>2000-01-29</td>\n",
       "      <td>3.607143</td>\n",
       "      <td>3.857143</td>\n",
       "      <td>3.348157</td>\n",
       "      <td>0.062731</td>\n",
       "    </tr>\n",
       "    <tr>\n",
       "      <td>4</td>\n",
       "      <td>5</td>\n",
       "      <td>2000-02-05</td>\n",
       "      <td>3.857143</td>\n",
       "      <td>3.883929</td>\n",
       "      <td>3.371409</td>\n",
       "      <td>0.006945</td>\n",
       "    </tr>\n",
       "    <tr>\n",
       "      <td>...</td>\n",
       "      <td>...</td>\n",
       "      <td>...</td>\n",
       "      <td>...</td>\n",
       "      <td>...</td>\n",
       "      <td>...</td>\n",
       "      <td>...</td>\n",
       "    </tr>\n",
       "    <tr>\n",
       "      <td>1039</td>\n",
       "      <td>1049</td>\n",
       "      <td>2020-02-08</td>\n",
       "      <td>314.179993</td>\n",
       "      <td>324.950012</td>\n",
       "      <td>324.950012</td>\n",
       "      <td>0.017783</td>\n",
       "    </tr>\n",
       "    <tr>\n",
       "      <td>1040</td>\n",
       "      <td>1050</td>\n",
       "      <td>2020-02-15</td>\n",
       "      <td>315.359985</td>\n",
       "      <td>313.049988</td>\n",
       "      <td>313.049988</td>\n",
       "      <td>-0.036621</td>\n",
       "    </tr>\n",
       "    <tr>\n",
       "      <td>1041</td>\n",
       "      <td>1051</td>\n",
       "      <td>2020-02-22</td>\n",
       "      <td>297.260010</td>\n",
       "      <td>273.359985</td>\n",
       "      <td>273.359985</td>\n",
       "      <td>-0.126785</td>\n",
       "    </tr>\n",
       "    <tr>\n",
       "      <td>1042</td>\n",
       "      <td>1052</td>\n",
       "      <td>2020-02-29</td>\n",
       "      <td>282.279999</td>\n",
       "      <td>289.029999</td>\n",
       "      <td>289.029999</td>\n",
       "      <td>0.057324</td>\n",
       "    </tr>\n",
       "    <tr>\n",
       "      <td>1043</td>\n",
       "      <td>1053</td>\n",
       "      <td>2020-03-07</td>\n",
       "      <td>263.750000</td>\n",
       "      <td>266.170013</td>\n",
       "      <td>266.170013</td>\n",
       "      <td>-0.079092</td>\n",
       "    </tr>\n",
       "  </tbody>\n",
       "</table>\n",
       "<p>1044 rows × 6 columns</p>\n",
       "</div>"
      ],
      "text/plain": [
       "      index        Date        Open       Close   Adj_Close    Return\n",
       "0         1  2000-01-08    3.642857    3.587054    3.113708  0.009422\n",
       "1         2  2000-01-15    3.607143    3.975446    3.450849  0.108276\n",
       "2         3  2000-01-22    3.872768    3.629464    3.150523 -0.087030\n",
       "3         4  2000-01-29    3.607143    3.857143    3.348157  0.062731\n",
       "4         5  2000-02-05    3.857143    3.883929    3.371409  0.006945\n",
       "...     ...         ...         ...         ...         ...       ...\n",
       "1039   1049  2020-02-08  314.179993  324.950012  324.950012  0.017783\n",
       "1040   1050  2020-02-15  315.359985  313.049988  313.049988 -0.036621\n",
       "1041   1051  2020-02-22  297.260010  273.359985  273.359985 -0.126785\n",
       "1042   1052  2020-02-29  282.279999  289.029999  289.029999  0.057324\n",
       "1043   1053  2020-03-07  263.750000  266.170013  266.170013 -0.079092\n",
       "\n",
       "[1044 rows x 6 columns]"
      ]
     },
     "execution_count": 23,
     "metadata": {},
     "output_type": "execute_result"
    }
   ],
   "source": [
    "# New DataFrame without outliers in column Return\n",
    "\n",
    "df2 = df1.loc[df1['Return'].between(-0.2, 0.15), ['Date', 'Open','Close','Adj_Close','Return']]\n",
    "df2.reset_index()"
   ]
  },
  {
   "cell_type": "code",
   "execution_count": 24,
   "metadata": {},
   "outputs": [
    {
     "data": {
      "image/png": "[encoded data removed]",
      "text/plain": [
       "<Figure size 1080x1080 with 1 Axes>"
      ]
     },
     "metadata": {
      "needs_background": "light"
     },
     "output_type": "display_data"
    }
   ],
   "source": [
    "#import matplotlib.pyplot as plt\n",
    "#from sklearn.linear_model import LinearRegression\n",
    "#%matplotlib inline \n",
    "\n",
    "#without defined outliers\n",
    "\n",
    "\n",
    "x = df2.loc[0:, [\"Adj_Close\"]]\n",
    "y = df2.loc[0:, \"Return\"]     \n",
    "\n",
    "lr = LinearRegression()\n",
    "\n",
    "model = lr.fit(x, y)\n",
    "\n",
    "\n",
    "x_old = x\n",
    "y_old = model.predict(x_old)\n",
    "\n",
    "\n",
    "x_new = [[325], [330], [335], [340], [345], [350], [355], [360], [365], [370], [375]]\n",
    "y_new = model.predict(x_new)\n",
    "\n",
    "\n",
    "plt.figure(figsize=(15,15))\n",
    "plt.scatter(x, y, color=\"blue\", label=\"Return\")\n",
    "plt.plot(x_old, y_old, color=\"green\", label=\"Linear trendline\")\n",
    "plt.plot(x_new, y_new, color=\"red\", label=\"Linear prediction\")\n",
    "plt.xticks([0,25,50,75,100,125,150,175,200,225,250,275,300,325,350,375])  \n",
    "plt.yticks([-0.2,-0.15,-0.1,-0.05,0,0.05,0.1,0.15])\n",
    "plt.xlabel(\"Adjusted Close\")\n",
    "plt.ylabel(\"Return [%]\")\n",
    "plt.title(\"Relationship Adj_Close to Return\")\n",
    "plt.legend(loc='lower right')\n",
    "plt.show()"
   ]
  },
  {
   "cell_type": "code",
   "execution_count": null,
   "metadata": {},
   "outputs": [],
   "source": []
  }
 ],
 "metadata": {
  "kernelspec": {
   "display_name": "Python 3",
   "language": "python",
   "name": "python3"
  },
  "language_info": {
   "codemirror_mode": {
    "name": "ipython",
    "version": 3
   },
   "file_extension": ".py",
   "mimetype": "text/x-python",
   "name": "python",
   "nbconvert_exporter": "python",
   "pygments_lexer": "ipython3",
   "version": "3.7.4"
  }
 },
 "nbformat": 4,
 "nbformat_minor": 2
}
